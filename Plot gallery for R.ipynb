{
 "cells": [
  {
   "cell_type": "code",
   "execution_count": 3,
   "metadata": {},
   "outputs": [
    {
     "name": "stderr",
     "output_type": "stream",
     "text": [
      "Loading required package: ggplot2\n",
      "\n",
      "Loading required package: ggpubr\n",
      "\n",
      "Warning message:\n",
      "\"package 'ggpubr' was built under R version 4.0.3\"\n",
      "Loading required package: hrbrthemes\n",
      "\n",
      "Warning message:\n",
      "\"package 'hrbrthemes' was built under R version 4.0.3\"\n",
      "NOTE: Either Arial Narrow or Roboto Condensed fonts are required to use these themes.\n",
      "\n",
      "      Please use hrbrthemes::import_roboto_condensed() to install Roboto Condensed and\n",
      "\n",
      "      if Arial Narrow is not on your system, please see https://bit.ly/arialnarrow\n",
      "\n",
      "Loading required package: gridExtra\n",
      "\n",
      "Loading required package: dplyr\n",
      "\n",
      "\n",
      "Attaching package: 'dplyr'\n",
      "\n",
      "\n",
      "The following object is masked from 'package:gridExtra':\n",
      "\n",
      "    combine\n",
      "\n",
      "\n",
      "The following objects are masked from 'package:stats':\n",
      "\n",
      "    filter, lag\n",
      "\n",
      "\n",
      "The following objects are masked from 'package:base':\n",
      "\n",
      "    intersect, setdiff, setequal, union\n",
      "\n",
      "\n",
      "Loading required package: tidyr\n",
      "\n",
      "Loading required package: viridis\n",
      "\n",
      "Loading required package: viridisLite\n",
      "\n",
      "Loading required package: reshape\n",
      "\n",
      "Warning message:\n",
      "\"package 'reshape' was built under R version 4.0.2\"\n",
      "\n",
      "Attaching package: 'reshape'\n",
      "\n",
      "\n",
      "The following objects are masked from 'package:tidyr':\n",
      "\n",
      "    expand, smiths\n",
      "\n",
      "\n",
      "The following object is masked from 'package:dplyr':\n",
      "\n",
      "    rename\n",
      "\n",
      "\n"
     ]
    }
   ],
   "source": [
    "if (!require(ggplot2)) install.packages(\"ggplot2\")\n",
    "if (!require(ggpubr)) install.packages(\"ggpubr\")\n",
    "if (!require(hrbrthemes)) install.packages(\"hrbrthemes\")\n",
    "if (!require(gridExtra)) intall.packages(\"gridExtra\")\n",
    "if (!require(dplyr)) install.packages(\"dplyr\")\n",
    "if (!require(tidyr)) install.packages(\"tidyr\")\n",
    "if (!require(viridis)) install.packages(\"viridis\")\n",
    "if (!require(reshape)) install.packages(\"reshape\")\n",
    "if (!require(vioplot)) install.packages(\"vioplot\")"
   ]
  },
  {
   "cell_type": "code",
   "execution_count": 1,
   "metadata": {},
   "outputs": [
    {
     "ename": "ERROR",
     "evalue": "Error in parse(text = x, srcfile = src): se intenta usar un nombre de varible de longitud cero\n",
     "output_type": "error",
     "traceback": [
      "Error in parse(text = x, srcfile = src): se intenta usar un nombre de varible de longitud cero\nTraceback:\n"
     ]
    }
   ],
   "source": [
    "\n",
    "```\n",
    "\n",
    "###**Density with** *geom_density*\n",
    "\n",
    "```{r density_plot_with_geomdensity}\n",
    "\n",
    "```\n",
    "\n",
    "### \n",
    "\n",
    "```{r}\n",
    "\n",
    "\n",
    "```\n",
    "\n",
    "### **Density stack with several groups**"
   ]
  },
  {
   "cell_type": "markdown",
   "metadata": {},
   "source": [
    "# **Violin plots**\n",
    "\n",
    "A violin diagram is used to visualize the distribution of the data and its probability density.\n",
    "\n",
    "This graph is a combination of a box-and-whisker diagram and a density plot rotated and placed on each side, to show how the data are distributed. The thick black bar in the center represents the interquartile interval, the thin black bar extending from it represents 95% of the confidence intervals, and the white point is the median.\n",
    "\n",
    "Box and whiskers plots are limited to their display of the data, as their visual simplicity tends to hide significant details about how values are distributed in the data. For example, with box-and-whisker diagrams you cannot see whether the distribution is bimodal or multimodal. While violin plots include more information, they can be much more crowded than box and whiskers plots. \n",
    "\n",
    "*Un diagrama de violín se utiliza para visualizar la distribución de los datos y su densidad de probabilidad.*\n",
    "\n",
    "*Este gráfico es una combinación de un diagrama de cajas y bigotes y un diagrama de densidad girado y colocado a cada lado, para mostrar la forma de distribución de los datos. La barra negra gruesa en el centro representa el intervalo intercuartil, la barra negra fina que se extiende desde ella, representa el 95 % de los intervalos de confianza, y el punto blanco es la mediana.*\n",
    "\n",
    "*Los diagramas de cajas y bigotes están limitados a su visualización de los datos, ya que su simplicidad visual tiende a ocultar detalles significativos sobre cómo se distribuyen los valores en los datos. Por ejemplo, con los diagramas de cajas y bigotes no puedes ver si la distribución es bimodal o multimodal. Si bien los diagramas de violín incluyen más información, pueden estar mucho más abarrotados que los diagramas de cajas y bigotes.*\n"
   ]
  },
  {
   "cell_type": "code",
   "execution_count": 5,
   "metadata": {},
   "outputs": [
    {
     "data": {
      "text/html": [
       "<table>\n",
       "<caption>A data.frame: 6 × 2</caption>\n",
       "<thead>\n",
       "\t<tr><th></th><th scope=col>groups</th><th scope=col>Variable</th></tr>\n",
       "\t<tr><th></th><th scope=col>&lt;fct&gt;</th><th scope=col>&lt;dbl&gt;</th></tr>\n",
       "</thead>\n",
       "<tbody>\n",
       "\t<tr><th scope=row>1</th><td>M</td><td>26.27797</td></tr>\n",
       "\t<tr><th scope=row>2</th><td>M</td><td>29.63919</td></tr>\n",
       "\t<tr><th scope=row>3</th><td>M</td><td>23.04409</td></tr>\n",
       "\t<tr><th scope=row>4</th><td>M</td><td>26.29109</td></tr>\n",
       "\t<tr><th scope=row>5</th><td>M</td><td>20.97113</td></tr>\n",
       "\t<tr><th scope=row>6</th><td>M</td><td>27.16485</td></tr>\n",
       "</tbody>\n",
       "</table>\n"
      ],
      "text/latex": [
       "A data.frame: 6 × 2\n",
       "\\begin{tabular}{r|ll}\n",
       "  & groups & Variable\\\\\n",
       "  & <fct> & <dbl>\\\\\n",
       "\\hline\n",
       "\t1 & M & 26.27797\\\\\n",
       "\t2 & M & 29.63919\\\\\n",
       "\t3 & M & 23.04409\\\\\n",
       "\t4 & M & 26.29109\\\\\n",
       "\t5 & M & 20.97113\\\\\n",
       "\t6 & M & 27.16485\\\\\n",
       "\\end{tabular}\n"
      ],
      "text/markdown": [
       "\n",
       "A data.frame: 6 × 2\n",
       "\n",
       "| <!--/--> | groups &lt;fct&gt; | Variable &lt;dbl&gt; |\n",
       "|---|---|---|\n",
       "| 1 | M | 26.27797 |\n",
       "| 2 | M | 29.63919 |\n",
       "| 3 | M | 23.04409 |\n",
       "| 4 | M | 26.29109 |\n",
       "| 5 | M | 20.97113 |\n",
       "| 6 | M | 27.16485 |\n",
       "\n"
      ],
      "text/plain": [
       "  groups Variable\n",
       "1 M      26.27797\n",
       "2 M      29.63919\n",
       "3 M      23.04409\n",
       "4 M      26.29109\n",
       "5 M      20.97113\n",
       "6 M      27.16485"
      ]
     },
     "metadata": {},
     "output_type": "display_data"
    }
   ],
   "source": [
    "# data\n",
    "# seed\n",
    "set.seed(1357)\n",
    "\n",
    "# data columns\n",
    "groups <- rep(c('M', 'F', 'T'), each = 50)\n",
    "var1 <- rnorm(50, 25.4, 2.4)\n",
    "var2 <- rnorm(50, 23.5, 8)\n",
    "var3 <- rnorm(50, 4.5, 1.4)\n",
    "\n",
    "\n",
    "# dataframe\n",
    "df <- data.frame(groups = groups, Variable = c(var1, var2, var3))\n",
    "df$groups <- as.factor(df$groups)\n",
    "head(df)"
   ]
  },
  {
   "cell_type": "code",
   "execution_count": 6,
   "metadata": {},
   "outputs": [
    {
     "name": "stderr",
     "output_type": "stream",
     "text": [
      "Loading required package: vioplot\n",
      "\n",
      "Loading required package: sm\n",
      "\n",
      "Package 'sm', version 2.2-5.6: type help(sm) for summary information\n",
      "\n",
      "Loading required package: zoo\n",
      "\n",
      "\n",
      "Attaching package: 'zoo'\n",
      "\n",
      "\n",
      "The following objects are masked from 'package:base':\n",
      "\n",
      "    as.Date, as.Date.numeric\n",
      "\n",
      "\n"
     ]
    },
    {
     "data": {
      "image/png": "[encoded data removed]",
      "text/plain": [
       "Plot with title \"Violin plot\""
      ]
     },
     "metadata": {
      "image/png": {
       "height": 420,
       "width": 420
      }
     },
     "output_type": "display_data"
    }
   ],
   "source": [
    "# vanilla R violin plot\n",
    "# package is essential\n",
    "\n",
    "\n",
    "# plot data\n",
    "# need to segregates values in objects\n",
    "df_M <- df$Variable[df$groups == \"M\"]\n",
    "df_F <- df$Variable[df$groups == \"F\"]\n",
    "df_T <- df$Variable[df$groups == \"T\"]\n",
    "\n",
    "# doing plot\n",
    "vioplot(df_M, df_F, df_T, main = \"Violin plot\", \n",
    "        col = c(\"red\", \"blue\", \"pink\"),\n",
    "        ylab = \"Value\", xlab = \"groups\",\n",
    "        ylim = c(0, 45))"
   ]
  },
  {
   "cell_type": "code",
   "execution_count": 7,
   "metadata": {},
   "outputs": [
    {
     "data": {
      "image/png": "[encoded data removed]",
      "text/plain": [
       "plot without title"
      ]
     },
     "metadata": {
      "image/png": {
       "height": 420,
       "width": 420
      }
     },
     "output_type": "display_data"
    }
   ],
   "source": [
    "# package is essential \n",
    "if (!require(ggplot2)) install.packages(\"ggplot2\")\n",
    "\n",
    "gpp <- ggplot(df, aes(x = groups, y = Variable, fill = groups))\n",
    "gpp + geom_violin() + ggtitle(\"Violin plot\") +\n",
    "  xlab(\"Groups\") + ylab(\"Variables\")"
   ]
  },
  {
   "cell_type": "markdown",
   "metadata": {},
   "source": [
    "# **Density plot**\n",
    "\n",
    "As known as Kernel Density Plots, Density Trace Graph., a density plot is a representation of the distribution of a numeric variable. It uses a kernel density estimate to show the probability density function of the variable.\n",
    "\n",
    "Density plots are used to study the distribution of one or a few variables. Checking the distribution of your variables one by one is probably the first task you should do when you get a new dataset. It delivers a good quantity of information. \n",
    "\n",
    "*Como se conoce como Gráficos de Densidad del Núcleo, Gráfico de Trazas de Densidad, un gráfico de densidad es una representación de la distribución de una variable numérica. Utiliza una estimación de la densidad del núcleo para mostrar la función de densidad de probabilidad de la variable.*\n",
    "\n",
    "*Las gráficas de densidad se utilizan para estudiar la distribución de una o unas pocas variables. Comprobar la distribución de las variables una por una es probablemente la primera tarea que se debe hacer cuando se obtiene un nuevo conjunto de datos. Entrega una buena cantidad de información.*\n"
   ]
  },
  {
   "cell_type": "markdown",
   "metadata": {},
   "source": [
    "**Basic density distribution plot**"
   ]
  },
  {
   "cell_type": "code",
   "execution_count": 8,
   "metadata": {},
   "outputs": [
    {
     "name": "stderr",
     "output_type": "stream",
     "text": [
      "Warning message in grid.Call(C_stringMetric, as.graphicsAnnot(x$label)):\n",
      "\"font family not found in Windows font database\"\n",
      "Warning message in grid.Call(C_stringMetric, as.graphicsAnnot(x$label)):\n",
      "\"font family not found in Windows font database\"\n",
      "Warning message in grid.Call(C_stringMetric, as.graphicsAnnot(x$label)):\n",
      "\"font family not found in Windows font database\"\n",
      "Warning message in grid.Call(C_textBounds, as.graphicsAnnot(x$label), x$x, x$y, :\n",
      "\"font family not found in Windows font database\"\n",
      "Warning message in grid.Call(C_textBounds, as.graphicsAnnot(x$label), x$x, x$y, :\n",
      "\"font family not found in Windows font database\"\n",
      "Warning message in grid.Call(C_textBounds, as.graphicsAnnot(x$label), x$x, x$y, :\n",
      "\"font family not found in Windows font database\"\n",
      "Warning message in grid.Call(C_textBounds, as.graphicsAnnot(x$label), x$x, x$y, :\n",
      "\"font family not found in Windows font database\"\n",
      "Warning message in grid.Call(C_textBounds, as.graphicsAnnot(x$label), x$x, x$y, :\n",
      "\"font family not found in Windows font database\"\n",
      "Warning message in grid.Call(C_textBounds, as.graphicsAnnot(x$label), x$x, x$y, :\n",
      "\"font family not found in Windows font database\"\n",
      "Warning message in grid.Call(C_textBounds, as.graphicsAnnot(x$label), x$x, x$y, :\n",
      "\"font family not found in Windows font database\"\n",
      "Warning message in grid.Call(C_textBounds, as.graphicsAnnot(x$label), x$x, x$y, :\n",
      "\"font family not found in Windows font database\"\n",
      "Warning message in grid.Call(C_textBounds, as.graphicsAnnot(x$label), x$x, x$y, :\n",
      "\"font family not found in Windows font database\"\n",
      "Warning message in grid.Call.graphics(C_text, as.graphicsAnnot(x$label), x$x, x$y, :\n",
      "\"font family not found in Windows font database\"\n",
      "Warning message in grid.Call(C_textBounds, as.graphicsAnnot(x$label), x$x, x$y, :\n",
      "\"font family not found in Windows font database\"\n"
     ]
    },
    {
     "data": {
      "image/png": "[encoded data removed]",
      "text/plain": [
       "plot without title"
      ]
     },
     "metadata": {
      "image/png": {
       "height": 420,
       "width": 420
      }
     },
     "output_type": "display_data"
    }
   ],
   "source": [
    "# basic density distribution plot\n",
    "\n",
    "# data\n",
    "var1 <- rnorm(500, 35, 3)\n",
    "var2 <- rnorm(50, 15, 1)\n",
    "var3 <- var1 - var2\n",
    "df <- data.frame(x = var3, y = var1, z = var2)\n",
    "\n",
    "# Make the histogram\n",
    "plot1 <- ggplot(df, aes(x = x)) +\n",
    "    geom_density(fill=\"#69b3a2\", color=\"#e9ecef\", alpha=0.8) + ggtitle(\"Basic density plot\")\n",
    "plot2 <- ggplot(df, aes(x = y)) +\n",
    "    geom_density(fill=\"#69b3a2\", color=\"#e9ecef\", alpha=0.8) + ggtitle(\"Basic density plot\")\n",
    "plot3 <- ggplot(df, aes(x = z)) +\n",
    "    geom_density(fill=\"#69b3a2\", color=\"#e9ecef\", alpha=0.8) + \n",
    "  ggtitle(\"Basic density plot with theme_ipsum\") +\n",
    "  theme_ipsum()\n",
    "\n",
    "# for 3 plots in a row\n",
    "grid.arrange(plot1, plot2, plot3 + rremove(\"x.text\"), \n",
    "             ncol = 1, nrow = 3)\n"
   ]
  },
  {
   "cell_type": "markdown",
   "metadata": {},
   "source": [
    "**Density with** *geom_density*"
   ]
  },
  {
   "cell_type": "code",
   "execution_count": 9,
   "metadata": {},
   "outputs": [
    {
     "name": "stderr",
     "output_type": "stream",
     "text": [
      "Warning message in grid.Call(C_textBounds, as.graphicsAnnot(x$label), x$x, x$y, :\n",
      "\"font family not found in Windows font database\"\n",
      "Warning message in grid.Call(C_textBounds, as.graphicsAnnot(x$label), x$x, x$y, :\n",
      "\"font family not found in Windows font database\"\n",
      "Warning message in grid.Call(C_textBounds, as.graphicsAnnot(x$label), x$x, x$y, :\n",
      "\"font family not found in Windows font database\"\n",
      "Warning message in grid.Call(C_textBounds, as.graphicsAnnot(x$label), x$x, x$y, :\n",
      "\"font family not found in Windows font database\"\n",
      "Warning message in grid.Call(C_textBounds, as.graphicsAnnot(x$label), x$x, x$y, :\n",
      "\"font family not found in Windows font database\"\n",
      "Warning message in grid.Call(C_textBounds, as.graphicsAnnot(x$label), x$x, x$y, :\n",
      "\"font family not found in Windows font database\"\n",
      "Warning message in grid.Call(C_textBounds, as.graphicsAnnot(x$label), x$x, x$y, :\n",
      "\"font family not found in Windows font database\"\n",
      "Warning message in grid.Call.graphics(C_text, as.graphicsAnnot(x$label), x$x, x$y, :\n",
      "\"font family not found in Windows font database\"\n"
     ]
    },
    {
     "data": {
      "image/png": "[encoded data removed]",
      "text/plain": [
       "plot without title"
      ]
     },
     "metadata": {
      "image/png": {
       "height": 420,
       "width": 420
      }
     },
     "output_type": "display_data"
    }
   ],
   "source": [
    "# density plot _with geomdensity\n",
    "\n",
    "# data\n",
    "var1 <- rnorm(1000)\n",
    "var2 <- rnorm(1000, 2)\n",
    "df <- data.frame(x1 = var1, x2 = var2)\n",
    "\n",
    "# plot density\n",
    "plotdata <- ggplot(df, aes(x = x)) +\n",
    "  # Top\n",
    "  geom_density(aes(x = var1, , y = ..density..), fill=\"#69b3a2\" ) +\n",
    "  geom_label(aes(x=4.5, y = 0.25, label=\"variable1\"), color=\"#69b3a2\") +\n",
    "  # Bottom\n",
    "  geom_density(aes(x = var2, , y = -..density..), fill= \"#404080\") +\n",
    "  geom_label(aes(x=4.5, y = -0.25, label=\"variable2\"), color=\"#404080\") +\n",
    "  theme_ipsum() + xlab(\"value of x\")\n",
    "\n",
    "# show data\n",
    "plotdata"
   ]
  },
  {
   "cell_type": "markdown",
   "metadata": {},
   "source": [
    "**Density with several groups.**"
   ]
  },
  {
   "cell_type": "code",
   "execution_count": 10,
   "metadata": {},
   "outputs": [
    {
     "name": "stderr",
     "output_type": "stream",
     "text": [
      "Using  as id variables\n",
      "\n"
     ]
    },
    {
     "data": {
      "image/png": "[encoded data removed]",
      "text/plain": [
       "plot without title"
      ]
     },
     "metadata": {
      "image/png": {
       "height": 420,
       "width": 420
      }
     },
     "output_type": "display_data"
    }
   ],
   "source": [
    "# data\n",
    "var1 <- rnorm(10, 5, 1)\n",
    "var2 <- rnorm(10, 5, 3)\n",
    "var3 <- rnorm(10, 9, 1)\n",
    "var4 <- rnorm(10, 1, .1)\n",
    "var5 <- rnorm(10, 8, 8)\n",
    "df <- data.frame(v1 = var1, v2 = var2, v3 = var3, v4 = var4, v5 = var5)\n",
    "\n",
    "df_plot <- melt(df)\n",
    "\n",
    "# ploting\n",
    "pt <- ggplot(df_plot, aes(x = value, group = variable, fill = variable)) +\n",
    "  geom_density(adjust = 1.5) + xlab(\"Value\") + ggtitle(\"Density with several groups\")\n",
    "\n",
    "\n",
    "pt"
   ]
  },
  {
   "cell_type": "code",
   "execution_count": null,
   "metadata": {},
   "outputs": [],
   "source": []
  },
  {
   "cell_type": "code",
   "execution_count": 4,
   "metadata": {},
   "outputs": [
    {
     "name": "stderr",
     "output_type": "stream",
     "text": [
      "Using  as id variables\n",
      "\n"
     ]
    },
    {
     "data": {
      "image/png": "[encoded data removed]",
      "text/plain": [
       "plot without title"
      ]
     },
     "metadata": {
      "image/png": {
       "height": 420,
       "width": 420
      }
     },
     "output_type": "display_data"
    }
   ],
   "source": [
    "# **Density with several groups.**\n",
    "\n",
    "# data\n",
    "var1 <- rnorm(10, 5, 1)\n",
    "var2 <- rnorm(10, 5, 3)\n",
    "var3 <- rnorm(10, 9, 1)\n",
    "var4 <- rnorm(10, 1, .1)\n",
    "var5 <- rnorm(10, 8, 8)\n",
    "df <- data.frame(v1 = var1, v2 = var2, v3 = var3, v4 = var4, v5 = var5)\n",
    "\n",
    "df_plot <- melt(df)\n",
    "\n",
    "# ploting\n",
    "pt <- ggplot(df_plot, aes(x = value, group = variable, fill = variable)) +\n",
    "  geom_density(adjust = 1.5) + xlab(\"Value\") + ggtitle(\"Density with several groups\")\n",
    "\n",
    "\n",
    "pt"
   ]
  },
  {
   "cell_type": "markdown",
   "metadata": {},
   "source": [
    "**Density stack with several groups**"
   ]
  }
 ],
 "metadata": {
  "kernelspec": {
   "display_name": "R",
   "language": "R",
   "name": "ir"
  },
  "language_info": {
   "codemirror_mode": "r",
   "file_extension": ".r",
   "mimetype": "text/x-r-source",
   "name": "R",
   "pygments_lexer": "r",
   "version": "4.0.0"
  }
 },
 "nbformat": 4,
 "nbformat_minor": 4
}
